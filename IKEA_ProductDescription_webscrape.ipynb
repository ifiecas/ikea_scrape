{
 "cells": [
  {
   "cell_type": "code",
   "execution_count": 30,
   "id": "47eb2ada-00b5-4ef5-917d-b7a611901b82",
   "metadata": {},
   "outputs": [
    {
     "name": "stdout",
     "output_type": "stream",
     "text": [
      "                                                   url  \\\n",
      "0    https://www.ikea.com/sa/en/p/ekedalen-bar-tabl...   \n",
      "1    https://www.ikea.com/sa/en/p/ingatorp-ingatorp...   \n",
      "2    https://www.ikea.com/sa/en/p/ingatorp-ingolf-t...   \n",
      "3    https://www.ikea.com/sa/en/p/ingatorp-ingatorp...   \n",
      "4    https://www.ikea.com/sa/en/p/moerbylanga-leifa...   \n",
      "..                                                 ...   \n",
      "688  https://www.ikea.com/sa/en/p/elvarli-1-section...   \n",
      "689  https://www.ikea.com/sa/en/p/elvarli-2-section...   \n",
      "690  https://www.ikea.com/sa/en/p/elvarli-2-section...   \n",
      "691  https://www.ikea.com/sa/en/p/elvarli-3-section...   \n",
      "692  https://www.ikea.com/sa/en/p/elvarli-2-section...   \n",
      "\n",
      "                                           description  \n",
      "0    EKEDALEN bar table, white, 120x80x105 cm What ...  \n",
      "1    Browse our full range of products from dressin...  \n",
      "2    Browse our full range of products from dressin...  \n",
      "3    Browse our full range of products from dressin...  \n",
      "4    Browse our full range of products from dressin...  \n",
      "..                                                 ...  \n",
      "688  ELVARLI wardrobe combination, white, 92x51x222...  \n",
      "689  ELVARLI wardrobe combination, white, 135x51x22...  \n",
      "690  Browse our full range of products from dressin...  \n",
      "691  Browse our full range of products from dressin...  \n",
      "692  Browse our full range of products from dressin...  \n",
      "\n",
      "[693 rows x 2 columns]\n"
     ]
    }
   ],
   "source": [
    "import requests\n",
    "from bs4 import BeautifulSoup\n",
    "import pandas as pd\n",
    "\n",
    "# Load the list of URLs from a CSV file\n",
    "# Use 'link' as the column name\n",
    "urls_df = pd.read_csv('/Users/raphael/Desktop/last.csv')\n",
    "urls = urls_df['link'].tolist()\n",
    "\n",
    "# Set up headers for the request\n",
    "headers = {\n",
    "    'User-Agent': 'Mozilla/5.0 (Windows NT 10.0; Win64; x64) AppleWebKit/537.36 (KHTML, like Gecko) Chrome/89.0.4389.82 Safari/537.36'\n",
    "}\n",
    "\n",
    "# Prepare a list to store results\n",
    "data = []\n",
    "\n",
    "# Loop through each URL\n",
    "for url in urls:\n",
    "    try:\n",
    "        # Send a GET request to fetch the page content\n",
    "        response = requests.get(url, headers=headers, timeout=10)\n",
    "        \n",
    "        # Default value if description is not found\n",
    "        description_text = \"Description not available\"\n",
    "        \n",
    "        # Check if the request was successful\n",
    "        if response.status_code == 200:\n",
    "            # Parse the page content\n",
    "            soup = BeautifulSoup(response.content, 'html.parser')\n",
    "            \n",
    "            # Locate the meta tag with name=\"description\"\n",
    "            meta_description = soup.find('meta', {'name': 'description'})\n",
    "            \n",
    "            # Extract the content attribute if the meta tag is found\n",
    "            if meta_description and meta_description.has_attr('content'):\n",
    "                description_text = meta_description['content']\n",
    "        else:\n",
    "            # Set a default message if the URL is accessible but returns an error\n",
    "            description_text = \"URL not available\"\n",
    "    \n",
    "    except requests.RequestException:\n",
    "        # If there's an exception (e.g., timeout or connection error), set URL as unavailable\n",
    "        description_text = \"URL not available\"\n",
    "    \n",
    "    # Append the URL and description to the data list\n",
    "    data.append({'url': url, 'description': description_text})\n",
    "\n",
    "# Create a DataFrame from the data list\n",
    "results_df = pd.DataFrame(data)\n",
    "\n",
    "# Display the DataFrame to the user\n",
    "print(results_df)\n"
   ]
  },
  {
   "cell_type": "code",
   "execution_count": 32,
   "id": "7091c273-8afd-4912-9833-5b3d6dc0295b",
   "metadata": {},
   "outputs": [],
   "source": [
    "results_df.to_csv('lastcsv.csv', index=False)\n"
   ]
  },
  {
   "cell_type": "code",
   "execution_count": null,
   "id": "7b0f0bbb-7e03-432d-b494-1cb3fae27269",
   "metadata": {},
   "outputs": [],
   "source": []
  }
 ],
 "metadata": {
  "kernelspec": {
   "display_name": "Python 3 (ipykernel)",
   "language": "python",
   "name": "python3"
  },
  "language_info": {
   "codemirror_mode": {
    "name": "ipython",
    "version": 3
   },
   "file_extension": ".py",
   "mimetype": "text/x-python",
   "name": "python",
   "nbconvert_exporter": "python",
   "pygments_lexer": "ipython3",
   "version": "3.12.4"
  }
 },
 "nbformat": 4,
 "nbformat_minor": 5
}
